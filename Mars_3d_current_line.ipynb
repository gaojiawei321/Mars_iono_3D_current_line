{
 "cells": [
  {
   "attachments": {},
   "cell_type": "markdown",
   "metadata": {},
   "source": [
    "# Plot 3D current line around Mars\n",
    "We try to plot 3D current of Mars magnetosphere.\n",
    "\n",
    "Author: Shi, Zhen (e-mail: Shi_Zhen@mail.iggcas.ac.cn)\n",
    "\n",
    "Log:\n",
    "2022/12/09 - initial version\n",
    "2022/12/09 - upload to github"
   ]
  },
  {
   "cell_type": "code",
   "execution_count": 1,
   "metadata": {},
   "outputs": [],
   "source": [
    "# import packages\n",
    "import numpy as np\n",
    "import scipy.io as scio\n",
    "import pyvista as pv\n",
    "import os\n",
    "import sys"
   ]
  },
  {
   "cell_type": "code",
   "execution_count": 2,
   "metadata": {},
   "outputs": [],
   "source": [
    "# parameters initalizing\n",
    "Rm = 3.3935e6"
   ]
  },
  {
   "cell_type": "code",
   "execution_count": 3,
   "metadata": {},
   "outputs": [],
   "source": [
    "# data information\n",
    "data_folder = \"D:\\\\program_sz\\\\python\\\\Mars_iono_current\\\\\"\n",
    "data_file = \"current_MSE_global_1206.mat\"\n",
    "\n",
    "\n",
    "# -------------------------------------------------------------------------\n",
    "# save information\n",
    "sv_folder = \"D:\\\\program_sz\\\\python\\\\Mars_iono_current\\\\pic\\\\\"\n",
    "key_str = data_file.split(\".\")[-2]\n",
    "# sv_type = \".svg\"\n",
    "sv_type = \".png\"\n",
    "\n",
    "os.makedirs(sv_folder, exist_ok=True)"
   ]
  },
  {
   "cell_type": "code",
   "execution_count": 4,
   "metadata": {},
   "outputs": [],
   "source": [
    "# load data \n",
    "dat_mat = scio.loadmat(data_folder+data_file)\n",
    "\n",
    "# position \n",
    "x = dat_mat['X1']/Rm\n",
    "y = dat_mat['Y1']/Rm\n",
    "z = dat_mat['Z1']/Rm\n",
    "\n",
    "x = np.swapaxes(x,0,1)\n",
    "y = np.swapaxes(y,0,1)\n",
    "z = np.swapaxes(z,0,1)\n",
    "\n",
    "# current density\n",
    "Jx = dat_mat['curlx']\n",
    "Jy = dat_mat['curly']\n",
    "Jz = dat_mat['curlz']\n",
    "\n",
    "Jx = np.swapaxes(Jx,0,1)\n",
    "Jy = np.swapaxes(Jy,0,1)\n",
    "Jz = np.swapaxes(Jz,0,1)"
   ]
  },
  {
   "cell_type": "code",
   "execution_count": 5,
   "metadata": {},
   "outputs": [],
   "source": [
    "# set grid\n",
    "grid = pv.UniformGrid(dims = Jx.shape,\n",
    "                        spacing = (0.2, 0.2, 0.2),\n",
    "                        origin = (x.min(), z.min(), z.min()))\n",
    "\n",
    "J_field = np.empty((len(Jx.flatten()), 3))\n",
    "J_field[:, 0] = Jx.flatten('F')\n",
    "J_field[:, 1] = Jy.flatten('F')\n",
    "J_field[:, 2] = Jz.flatten('F')   \n",
    "J_x = Jx.flatten('F')\n",
    "grid['J'] = J_field \n",
    "grid['Jx'] = J_x "
   ]
  },
  {
   "cell_type": "code",
   "execution_count": 6,
   "metadata": {},
   "outputs": [],
   "source": [
    "grid.set_active_scalars('Jx', preference = 'point')"
   ]
  },
  {
   "cell_type": "code",
   "execution_count": 7,
   "metadata": {},
   "outputs": [
    {
     "data": {
      "text/plain": [
       "pyvista DataSetAttributes\n",
       "Association     : POINT\n",
       "Active Scalars  : Jx\n",
       "Active Vectors  : None\n",
       "Active Texture  : None\n",
       "Active Normals  : None\n",
       "Contains arrays :\n",
       "    J                       float64    (8000, 3)\n",
       "    Jx                      float64    (8000,)              SCALARS"
      ]
     },
     "execution_count": 7,
     "metadata": {},
     "output_type": "execute_result"
    }
   ],
   "source": [
    "grid.point_data"
   ]
  },
  {
   "cell_type": "code",
   "execution_count": 8,
   "metadata": {},
   "outputs": [
    {
     "data": {
      "text/plain": [
       "<vtkmodules.vtkRenderingOpenGL2.vtkOpenGLActor(0x0000025CFE5956D0) at 0x0000025C9E275460>"
      ]
     },
     "execution_count": 8,
     "metadata": {},
     "output_type": "execute_result"
    }
   ],
   "source": [
    "# set up plotter\n",
    "pl = pv.Plotter(window_size=(2000, 1500), multi_samples=8, line_smoothing=True, polygon_smoothing=True)\n",
    "\n",
    "pl.add_mesh(grid.outline(), color = 'k')"
   ]
  },
  {
   "cell_type": "code",
   "execution_count": 9,
   "metadata": {},
   "outputs": [
    {
     "data": {
      "text/plain": [
       "<vtkmodules.vtkRenderingOpenGL2.vtkOpenGLActor(0x0000025CDDFDA210) at 0x0000025C9E2754C0>"
      ]
     },
     "execution_count": 9,
     "metadata": {},
     "output_type": "execute_result"
    }
   ],
   "source": [
    "#  planet\n",
    "sp = pv.Sphere(\n",
    "    radius=1, center=(0, 0, 0), direction=(0, 0, 1), theta_resolution=120, phi_resolution=60\n",
    ")\n",
    "\n",
    "pl.add_mesh(sp, color = 'w')"
   ]
  },
  {
   "cell_type": "code",
   "execution_count": 10,
   "metadata": {},
   "outputs": [
    {
     "data": {
      "text/plain": [
       "<vtkmodules.vtkRenderingOpenGL2.vtkOpenGLActor(0x0000025CFE74E010) at 0x0000025C9E275BE0>"
      ]
     },
     "execution_count": 10,
     "metadata": {},
     "output_type": "execute_result"
    }
   ],
   "source": [
    "# slice\n",
    "slice1 = grid.slice(normal = 'x', origin = (0, 0, 0))\n",
    "pl.add_mesh(slice1, scalars = 'Jx', cmap = 'seismic', clim = [-10, 10], opacity = 0.5)\n",
    "# slice2 = grid.slice(normal = 'x', origin = (-1, 0, 0))\n",
    "# pl.add_mesh(slice2, scalars = 'Jx', cmap = 'seismic', clim = [-10, 10], opacity = 0.5)\n",
    "# slice3 = grid.slice(normal = 'x', origin = (1, 0, 0))\n",
    "# pl.add_mesh(slice3, scalars = 'Jx', cmap = 'seismic', clim = [-10, 10], opacity = 0.5)\n"
   ]
  },
  {
   "cell_type": "code",
   "execution_count": 11,
   "metadata": {},
   "outputs": [
    {
     "data": {
      "text/plain": [
       "slice"
      ]
     },
     "execution_count": 11,
     "metadata": {},
     "output_type": "execute_result"
    }
   ],
   "source": [
    "slice"
   ]
  },
  {
   "cell_type": "code",
   "execution_count": 12,
   "metadata": {},
   "outputs": [],
   "source": [
    "# set up series of seeds for streamlines\n",
    "\n",
    "# the postion of each seed\n",
    "sn = 10\n",
    "s1 = np.ones(sn)\n",
    "sr = 1.4\n",
    "sth = np.linspace(0, 2*np.pi, sn, endpoint = False)\n",
    "sz = 0*s1\n",
    "sx = sr*np.cos(np.linspace(0, 2*np.pi, sn, endpoint = False))\n",
    "sy = sr*np.sin(np.linspace(0, 2*np.pi, sn, endpoint = False))\n",
    "\n",
    "# the parameters of each seed\n",
    "seed_r = 0.05\n",
    "seed_thr = 60\n",
    "seed_phr = 30\n",
    "seed_c = 'm'\n",
    "\n",
    "\n",
    "# -------------------------------------------------------------------------\n",
    "# some parameters about the streamlines\n",
    "sl_c = 'c'\n"
   ]
  },
  {
   "cell_type": "code",
   "execution_count": 13,
   "metadata": {},
   "outputs": [],
   "source": [
    "# plot streamlines\n",
    "\n",
    "# cone for streamlines\n",
    "cn = pv.Cone(resolution = 20)\n",
    "\n",
    "for xi, yi, zi in zip(sx, sy, sz):\n",
    "    # create seed\n",
    "    tmp_seed = pv.Sphere(radius = seed_r, center = (xi, yi, zi), direction = (0, 0, 1),\n",
    "    theta_resolution = seed_thr, phi_resolution = seed_phr)\n",
    "\n",
    "    # create streamline\n",
    "    tmp_sl = grid.streamlines(\n",
    "        vectors = 'J',\n",
    "        start_position= (xi, yi, zi),\n",
    "        integration_direction = 'both',\n",
    "        initial_step_length=0.15,\n",
    "        min_step_length=0.01, \n",
    "        max_step_length=0.5, \n",
    "        max_steps=2000,\n",
    "        terminal_speed=1e-12, \n",
    "        max_error=1e-06,\n",
    "        max_time=50\n",
    "    )\n",
    "\n",
    "    # add direction cones\n",
    "    sl_cn = tmp_sl.glyph(orient='J', scale=False, factor=0.08, geom=cn, tolerance = 0.12)\n",
    "\n",
    "    # add those to the plotter\n",
    "    pl.add_mesh(tmp_seed, color = seed_c)\n",
    "    pl.add_mesh(tmp_sl.tube(radius = 0.01), color = sl_c)\n",
    "    pl.add_mesh(sl_cn, color = sl_c)\n",
    "    "
   ]
  },
  {
   "cell_type": "code",
   "execution_count": 14,
   "metadata": {},
   "outputs": [
    {
     "data": {
      "application/vnd.jupyter.widget-view+json": {
       "model_id": "68434281576f419daa4408c9c49952b8",
       "version_major": 2,
       "version_minor": 0
      },
      "text/plain": [
       "ViewInteractiveWidget(height=1500, layout=Layout(height='auto', width='100%'), width=2000)"
      ]
     },
     "metadata": {},
     "output_type": "display_data"
    }
   ],
   "source": [
    "# show\n",
    "pl.show_axes()\n",
    "pl.show()"
   ]
  },
  {
   "cell_type": "code",
   "execution_count": 15,
   "metadata": {},
   "outputs": [
    {
     "data": {
      "text/plain": [
       "[(7.388224244530522, 7.390758753235661, 7.383492827828252),\n",
       " (-0.00253450870513916, 0.0, -0.007265925407409668),\n",
       " (0.0, 0.0, 1.0)]"
      ]
     },
     "execution_count": 15,
     "metadata": {},
     "output_type": "execute_result"
    }
   ],
   "source": [
    "# camera postion\n",
    "pl.camera_position"
   ]
  }
 ],
 "metadata": {
  "kernelspec": {
   "display_name": "Python 3.9.2 64-bit",
   "language": "python",
   "name": "python3"
  },
  "language_info": {
   "codemirror_mode": {
    "name": "ipython",
    "version": 3
   },
   "file_extension": ".py",
   "mimetype": "text/x-python",
   "name": "python",
   "nbconvert_exporter": "python",
   "pygments_lexer": "ipython3",
   "version": "3.9.2"
  },
  "orig_nbformat": 4,
  "vscode": {
   "interpreter": {
    "hash": "fbe58ca63fe33f9eeae9e71d10368d2b4a57f2b1b395836210cc60d362c66949"
   }
  }
 },
 "nbformat": 4,
 "nbformat_minor": 2
}
